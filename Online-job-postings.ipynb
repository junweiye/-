{
 "cells": [
  {
   "cell_type": "code",
   "execution_count": 23,
   "metadata": {},
   "outputs": [],
   "source": [
    "import pandas as pd\n",
    "df=pd.read_csv('online-job-postings.csv')"
   ]
  },
  {
   "cell_type": "markdown",
   "metadata": {},
   "source": [
    "# 评估数据（access）"
   ]
  },
  {
   "cell_type": "code",
   "execution_count": 24,
   "metadata": {},
   "outputs": [
    {
     "data": {
      "text/html": [
       "<div>\n",
       "<style scoped>\n",
       "    .dataframe tbody tr th:only-of-type {\n",
       "        vertical-align: middle;\n",
       "    }\n",
       "\n",
       "    .dataframe tbody tr th {\n",
       "        vertical-align: top;\n",
       "    }\n",
       "\n",
       "    .dataframe thead th {\n",
       "        text-align: right;\n",
       "    }\n",
       "</style>\n",
       "<table border=\"1\" class=\"dataframe\">\n",
       "  <thead>\n",
       "    <tr style=\"text-align: right;\">\n",
       "      <th></th>\n",
       "      <th>jobpost</th>\n",
       "      <th>date</th>\n",
       "      <th>Title</th>\n",
       "      <th>Company</th>\n",
       "      <th>AnnouncementCode</th>\n",
       "      <th>Term</th>\n",
       "      <th>Eligibility</th>\n",
       "      <th>Audience</th>\n",
       "      <th>StartDate</th>\n",
       "      <th>Duration</th>\n",
       "      <th>...</th>\n",
       "      <th>Salary</th>\n",
       "      <th>ApplicationP</th>\n",
       "      <th>OpeningDate</th>\n",
       "      <th>Deadline</th>\n",
       "      <th>Notes</th>\n",
       "      <th>AboutC</th>\n",
       "      <th>Attach</th>\n",
       "      <th>Year</th>\n",
       "      <th>Month</th>\n",
       "      <th>IT</th>\n",
       "    </tr>\n",
       "  </thead>\n",
       "  <tbody>\n",
       "    <tr>\n",
       "      <th>0</th>\n",
       "      <td>AMERIA Investment Consulting Company\\r\\nJOB TI...</td>\n",
       "      <td>Jan 5, 2004</td>\n",
       "      <td>Chief Financial Officer</td>\n",
       "      <td>AMERIA Investment Consulting Company</td>\n",
       "      <td>NaN</td>\n",
       "      <td>NaN</td>\n",
       "      <td>NaN</td>\n",
       "      <td>NaN</td>\n",
       "      <td>NaN</td>\n",
       "      <td>NaN</td>\n",
       "      <td>...</td>\n",
       "      <td>NaN</td>\n",
       "      <td>To apply for this position, please submit a\\r\\...</td>\n",
       "      <td>NaN</td>\n",
       "      <td>26 January 2004</td>\n",
       "      <td>NaN</td>\n",
       "      <td>NaN</td>\n",
       "      <td>NaN</td>\n",
       "      <td>2004</td>\n",
       "      <td>1</td>\n",
       "      <td>False</td>\n",
       "    </tr>\n",
       "    <tr>\n",
       "      <th>1</th>\n",
       "      <td>International Research &amp; Exchanges Board (IREX...</td>\n",
       "      <td>Jan 7, 2004</td>\n",
       "      <td>Full-time Community Connections Intern (paid i...</td>\n",
       "      <td>International Research &amp; Exchanges Board (IREX)</td>\n",
       "      <td>NaN</td>\n",
       "      <td>NaN</td>\n",
       "      <td>NaN</td>\n",
       "      <td>NaN</td>\n",
       "      <td>NaN</td>\n",
       "      <td>3 months</td>\n",
       "      <td>...</td>\n",
       "      <td>NaN</td>\n",
       "      <td>Please submit a cover letter and resume to:\\r\\...</td>\n",
       "      <td>NaN</td>\n",
       "      <td>12 January 2004</td>\n",
       "      <td>NaN</td>\n",
       "      <td>The International Research &amp; Exchanges Board (...</td>\n",
       "      <td>NaN</td>\n",
       "      <td>2004</td>\n",
       "      <td>1</td>\n",
       "      <td>False</td>\n",
       "    </tr>\n",
       "    <tr>\n",
       "      <th>2</th>\n",
       "      <td>Caucasus Environmental NGO Network (CENN)\\r\\nJ...</td>\n",
       "      <td>Jan 7, 2004</td>\n",
       "      <td>Country Coordinator</td>\n",
       "      <td>Caucasus Environmental NGO Network (CENN)</td>\n",
       "      <td>NaN</td>\n",
       "      <td>NaN</td>\n",
       "      <td>NaN</td>\n",
       "      <td>NaN</td>\n",
       "      <td>NaN</td>\n",
       "      <td>Renewable annual contract\\r\\nPOSITION</td>\n",
       "      <td>...</td>\n",
       "      <td>NaN</td>\n",
       "      <td>Please send resume or CV toursula.kazarian@......</td>\n",
       "      <td>NaN</td>\n",
       "      <td>20 January 2004\\r\\nSTART DATE:  February 2004</td>\n",
       "      <td>NaN</td>\n",
       "      <td>The Caucasus Environmental NGO Network is a\\r\\...</td>\n",
       "      <td>NaN</td>\n",
       "      <td>2004</td>\n",
       "      <td>1</td>\n",
       "      <td>False</td>\n",
       "    </tr>\n",
       "    <tr>\n",
       "      <th>3</th>\n",
       "      <td>Manoff Group\\r\\nJOB TITLE:  BCC Specialist\\r\\n...</td>\n",
       "      <td>Jan 7, 2004</td>\n",
       "      <td>BCC Specialist</td>\n",
       "      <td>Manoff Group</td>\n",
       "      <td>NaN</td>\n",
       "      <td>NaN</td>\n",
       "      <td>NaN</td>\n",
       "      <td>NaN</td>\n",
       "      <td>NaN</td>\n",
       "      <td>NaN</td>\n",
       "      <td>...</td>\n",
       "      <td>NaN</td>\n",
       "      <td>Please send cover letter and resume to Amy\\r\\n...</td>\n",
       "      <td>NaN</td>\n",
       "      <td>23 January 2004\\r\\nSTART DATE:  Immediate</td>\n",
       "      <td>NaN</td>\n",
       "      <td>NaN</td>\n",
       "      <td>NaN</td>\n",
       "      <td>2004</td>\n",
       "      <td>1</td>\n",
       "      <td>False</td>\n",
       "    </tr>\n",
       "    <tr>\n",
       "      <th>4</th>\n",
       "      <td>Yerevan Brandy Company\\r\\nJOB TITLE:  Software...</td>\n",
       "      <td>Jan 10, 2004</td>\n",
       "      <td>Software Developer</td>\n",
       "      <td>Yerevan Brandy Company</td>\n",
       "      <td>NaN</td>\n",
       "      <td>NaN</td>\n",
       "      <td>NaN</td>\n",
       "      <td>NaN</td>\n",
       "      <td>NaN</td>\n",
       "      <td>NaN</td>\n",
       "      <td>...</td>\n",
       "      <td>NaN</td>\n",
       "      <td>Successful candidates should submit\\r\\n- CV; \\...</td>\n",
       "      <td>NaN</td>\n",
       "      <td>20 January 2004, 18:00</td>\n",
       "      <td>NaN</td>\n",
       "      <td>NaN</td>\n",
       "      <td>NaN</td>\n",
       "      <td>2004</td>\n",
       "      <td>1</td>\n",
       "      <td>True</td>\n",
       "    </tr>\n",
       "  </tbody>\n",
       "</table>\n",
       "<p>5 rows × 24 columns</p>\n",
       "</div>"
      ],
      "text/plain": [
       "                                             jobpost          date  \\\n",
       "0  AMERIA Investment Consulting Company\\r\\nJOB TI...   Jan 5, 2004   \n",
       "1  International Research & Exchanges Board (IREX...   Jan 7, 2004   \n",
       "2  Caucasus Environmental NGO Network (CENN)\\r\\nJ...   Jan 7, 2004   \n",
       "3  Manoff Group\\r\\nJOB TITLE:  BCC Specialist\\r\\n...   Jan 7, 2004   \n",
       "4  Yerevan Brandy Company\\r\\nJOB TITLE:  Software...  Jan 10, 2004   \n",
       "\n",
       "                                               Title  \\\n",
       "0                            Chief Financial Officer   \n",
       "1  Full-time Community Connections Intern (paid i...   \n",
       "2                                Country Coordinator   \n",
       "3                                     BCC Specialist   \n",
       "4                                 Software Developer   \n",
       "\n",
       "                                           Company AnnouncementCode Term  \\\n",
       "0             AMERIA Investment Consulting Company              NaN  NaN   \n",
       "1  International Research & Exchanges Board (IREX)              NaN  NaN   \n",
       "2        Caucasus Environmental NGO Network (CENN)              NaN  NaN   \n",
       "3                                     Manoff Group              NaN  NaN   \n",
       "4                           Yerevan Brandy Company              NaN  NaN   \n",
       "\n",
       "  Eligibility Audience StartDate                               Duration  \\\n",
       "0         NaN      NaN       NaN                                    NaN   \n",
       "1         NaN      NaN       NaN                               3 months   \n",
       "2         NaN      NaN       NaN  Renewable annual contract\\r\\nPOSITION   \n",
       "3         NaN      NaN       NaN                                    NaN   \n",
       "4         NaN      NaN       NaN                                    NaN   \n",
       "\n",
       "   ...   Salary                                       ApplicationP  \\\n",
       "0  ...      NaN  To apply for this position, please submit a\\r\\...   \n",
       "1  ...      NaN  Please submit a cover letter and resume to:\\r\\...   \n",
       "2  ...      NaN  Please send resume or CV toursula.kazarian@......   \n",
       "3  ...      NaN  Please send cover letter and resume to Amy\\r\\n...   \n",
       "4  ...      NaN  Successful candidates should submit\\r\\n- CV; \\...   \n",
       "\n",
       "  OpeningDate                                       Deadline Notes  \\\n",
       "0         NaN                                26 January 2004   NaN   \n",
       "1         NaN                                12 January 2004   NaN   \n",
       "2         NaN  20 January 2004\\r\\nSTART DATE:  February 2004   NaN   \n",
       "3         NaN      23 January 2004\\r\\nSTART DATE:  Immediate   NaN   \n",
       "4         NaN                         20 January 2004, 18:00   NaN   \n",
       "\n",
       "                                              AboutC Attach  Year Month     IT  \n",
       "0                                                NaN    NaN  2004     1  False  \n",
       "1  The International Research & Exchanges Board (...    NaN  2004     1  False  \n",
       "2  The Caucasus Environmental NGO Network is a\\r\\...    NaN  2004     1  False  \n",
       "3                                                NaN    NaN  2004     1  False  \n",
       "4                                                NaN    NaN  2004     1   True  \n",
       "\n",
       "[5 rows x 24 columns]"
      ]
     },
     "execution_count": 24,
     "metadata": {},
     "output_type": "execute_result"
    }
   ],
   "source": [
    "df.head()"
   ]
  },
  {
   "cell_type": "code",
   "execution_count": 25,
   "metadata": {},
   "outputs": [
    {
     "data": {
      "text/plain": [
       "ASAP                                                                                                                                                               4754\n",
       "Immediately                                                                                                                                                         773\n",
       "As soon as possible                                                                                                                                                 543\n",
       "Upon hiring                                                                                                                                                         261\n",
       "Immediate                                                                                                                                                           259\n",
       "Immediate employment                                                                                                                                                140\n",
       "As soon as possible.                                                                                                                                                 32\n",
       "01 September 2012                                                                                                                                                    31\n",
       "March 2006                                                                                                                                                           27\n",
       "November 2006                                                                                                                                                        22\n",
       "January 2010                                                                                                                                                         19\n",
       "01 February 2005                                                                                                                                                     17\n",
       "February 2014                                                                                                                                                        17\n",
       "Immediate job opportunity                                                                                                                                            17\n",
       "September 2010                                                                                                                                                       16\n",
       "February 2011                                                                                                                                                        16\n",
       "TBD                                                                                                                                                                  16\n",
       "September 2008                                                                                                                                                       15\n",
       "March 2011                                                                                                                                                           15\n",
       "February 2007                                                                                                                                                        14\n",
       "01 February 2015                                                                                                                                                     14\n",
       "01 July 2014                                                                                                                                                         14\n",
       "01 September 2008                                                                                                                                                    13\n",
       "01 March 2006                                                                                                                                                        13\n",
       "01 September 2010                                                                                                                                                    13\n",
       "January 2016                                                                                                                                                         13\n",
       "01 October 2012                                                                                                                                                      12\n",
       "Fall 2010                                                                                                                                                            12\n",
       "01 April 2014                                                                                                                                                        12\n",
       "June 2008                                                                                                                                                            12\n",
       "                                                                                                                                                                   ... \n",
       "26 May 2008                                                                                                                                                           1\n",
       "11 July  2005                                                                                                                                                         1\n",
       "07 July 2008                                                                                                                                                          1\n",
       "20-22 May 2005                                                                                                                                                        1\n",
       "Midst June, 2004                                                                                                                                                      1\n",
       "16 May 2011                                                                                                                                                           1\n",
       "17 April 2007                                                                                                                                                         1\n",
       "The end of January 2005                                                                                                                                               1\n",
       "17 September 2005                                                                                                                                                     1\n",
       "10 September 2008                                                                                                                                                     1\n",
       "28 August 2006                                                                                                                                                        1\n",
       "08 July 2008, 18:00                                                                                                                                                   1\n",
       "End of May 2006                                                                                                                                                       1\n",
       "September  2005                                                                                                                                                       1\n",
       "15 September 2006                                                                                                                                                     1\n",
       "25 June 2007                                                                                                                                                          1\n",
       "01 November 2012, 4 p.m.                                                                                                                                              1\n",
       "08 July 2013                                                                                                                                                          1\n",
       "Wednesday, 6 April 2011 at 10:00 a.m. (Registration\\r\\nstarts at 09:30 a.m.)                                                                                          1\n",
       "August/ September 2010                                                                                                                                                1\n",
       "1 May 2005                                                                                                                                                            1\n",
       "19 February  2007                                                                                                                                                     1\n",
       "The starting date depends on the date when the project\\r\\nis notified by the EU-delegation in Armenia. It is expected to be no\\r\\nlater than 1st February 2012.       1\n",
       "February 28, 2011 or later                                                                                                                                            1\n",
       "03 October 2006, from 16:30 till 18:00.                                                                                                                               1\n",
       "09 July 2005                                                                                                                                                          1\n",
       "August 10, 2004                                                                                                                                                       1\n",
       "01 March 2014 (preferably)                                                                                                                                            1\n",
       "June 2005 or as agreed                                                                                                                                                1\n",
       "28 November 2007                                                                                                                                                      1\n",
       "Name: StartDate, Length: 1186, dtype: int64"
      ]
     },
     "execution_count": 25,
     "metadata": {},
     "output_type": "execute_result"
    }
   ],
   "source": [
    "df['StartDate'].value_counts()"
   ]
  },
  {
   "cell_type": "code",
   "execution_count": 26,
   "metadata": {
    "scrolled": true
   },
   "outputs": [
    {
     "name": "stdout",
     "output_type": "stream",
     "text": [
      "<class 'pandas.core.frame.DataFrame'>\n",
      "RangeIndex: 19001 entries, 0 to 19000\n",
      "Data columns (total 24 columns):\n",
      "jobpost             19001 non-null object\n",
      "date                19001 non-null object\n",
      "Title               18973 non-null object\n",
      "Company             18994 non-null object\n",
      "AnnouncementCode    1208 non-null object\n",
      "Term                7676 non-null object\n",
      "Eligibility         4930 non-null object\n",
      "Audience            640 non-null object\n",
      "StartDate           9675 non-null object\n",
      "Duration            10798 non-null object\n",
      "Location            18969 non-null object\n",
      "JobDescription      15109 non-null object\n",
      "JobRequirment       16479 non-null object\n",
      "RequiredQual        18517 non-null object\n",
      "Salary              9622 non-null object\n",
      "ApplicationP        18941 non-null object\n",
      "OpeningDate         18295 non-null object\n",
      "Deadline            18936 non-null object\n",
      "Notes               2211 non-null object\n",
      "AboutC              12470 non-null object\n",
      "Attach              1559 non-null object\n",
      "Year                19001 non-null int64\n",
      "Month               19001 non-null int64\n",
      "IT                  19001 non-null bool\n",
      "dtypes: bool(1), int64(2), object(21)\n",
      "memory usage: 3.4+ MB\n"
     ]
    }
   ],
   "source": [
    "df.info()"
   ]
  },
  {
   "cell_type": "code",
   "execution_count": 27,
   "metadata": {},
   "outputs": [
    {
     "data": {
      "text/plain": [
       "2012    2149\n",
       "2015    2009\n",
       "2013    2009\n",
       "2014    1983\n",
       "2008    1785\n",
       "2011    1697\n",
       "2007    1538\n",
       "2010    1511\n",
       "2009    1191\n",
       "2005    1138\n",
       "2006    1116\n",
       "2004     875\n",
       "Name: Year, dtype: int64"
      ]
     },
     "execution_count": 27,
     "metadata": {},
     "output_type": "execute_result"
    }
   ],
   "source": [
    "df['Year'].value_counts()"
   ]
  },
  {
   "cell_type": "markdown",
   "metadata": {},
   "source": [
    "存在问题的问题\n",
    "- 缺失值 (非数字)\n",
    "- 起始日期不一致 (ASAP)\n",
    "- 非描述性标题或拼写错误"
   ]
  },
  {
   "cell_type": "markdown",
   "metadata": {},
   "source": [
    "# 清洗数据（三步骤：定义，编码，测试）"
   ]
  },
  {
   "cell_type": "markdown",
   "metadata": {},
   "source": [
    "## 非描述性标题或拼写错误"
   ]
  },
  {
   "cell_type": "markdown",
   "metadata": {},
   "source": [
    "### 定义:更改['ApplicationP'],['AboutC'],['RequiredQual']的列名标题"
   ]
  },
  {
   "cell_type": "code",
   "execution_count": 28,
   "metadata": {},
   "outputs": [],
   "source": [
    "df_clean=df.copy()"
   ]
  },
  {
   "cell_type": "code",
   "execution_count": 29,
   "metadata": {},
   "outputs": [],
   "source": [
    "df_clean = df.rename(columns={'ApplicationP':'ApplicationProcedure',\n",
    "                              'AboutC':'AboutCompany','RequiredQualifications':'JobRequirment'})"
   ]
  },
  {
   "cell_type": "markdown",
   "metadata": {},
   "source": [
    "## 起始日期不一致 (ASAP)\n"
   ]
  },
  {
   "cell_type": "markdown",
   "metadata": {},
   "source": [
    "### 定义：将['StartDate']列里的Immediate、Immediately、As soon as possible等值转化成ASAP"
   ]
  },
  {
   "cell_type": "code",
   "execution_count": 32,
   "metadata": {},
   "outputs": [],
   "source": [
    "asap_list = ['Immediately', 'As soon as possible', 'Upon hiring',\n",
    "             'Immediate', 'Immediate employment', 'As soon as possible.', 'Immediate job opportunity',\n",
    "             '\"Immediate employment, after passing the interview.\"',\n",
    "             'ASAP preferred', 'Employment contract signature date',\n",
    "             'Immediate employment opportunity', 'Immidiately', 'ASA',\n",
    "             'Asap', '\"The position is open immediately but has a flexible start date depending on the candidates earliest availability.\"',\n",
    "             'Immediately upon agreement', '20 November 2014 or ASAP',\n",
    "             'immediately', 'Immediatelly',\n",
    "             '\"Immediately upon selection or no later than November 15, 2009.\"',\n",
    "             'Immediate job opening', 'Immediate hiring', 'Upon selection',\n",
    "             'As soon as practical', 'Immadiate', 'As soon as posible',\n",
    "             'Immediately with 2 months probation period',\n",
    "             '12 November 2012 or ASAP', 'Immediate employment after passing the interview',\n",
    "             'Immediately/ upon agreement', '01 September 2014 or ASAP',\n",
    "             'Immediately or as per agreement', 'as soon as possible',\n",
    "             'As soon as Possible', 'in the nearest future', 'immediate',\n",
    "             '01 April 2014 or ASAP', 'Immidiatly', 'Urgent',\n",
    "             'Immediate or earliest possible', 'Immediate hire',\n",
    "             'Earliest  possible', 'ASAP with 3 months probation period.',\n",
    "             'Immediate employment opportunity.', 'Immediate employment.',\n",
    "             'Immidietly', 'Imminent', 'September 2014 or ASAP', 'Imediately']"
   ]
  },
  {
   "cell_type": "code",
   "execution_count": 33,
   "metadata": {},
   "outputs": [],
   "source": [
    "df_clean['StartDate'].replace(asap_list,'ASAP',inplace=True)"
   ]
  },
  {
   "cell_type": "code",
   "execution_count": 34,
   "metadata": {},
   "outputs": [
    {
     "data": {
      "text/plain": [
       "ASAP                                                                                                                                                               6856\n",
       "01 September 2012                                                                                                                                                    31\n",
       "March 2006                                                                                                                                                           27\n",
       "November 2006                                                                                                                                                        22\n",
       "January 2010                                                                                                                                                         19\n",
       "01 February 2005                                                                                                                                                     17\n",
       "February 2014                                                                                                                                                        17\n",
       "February 2011                                                                                                                                                        16\n",
       "September 2010                                                                                                                                                       16\n",
       "TBD                                                                                                                                                                  16\n",
       "September 2008                                                                                                                                                       15\n",
       "March 2011                                                                                                                                                           15\n",
       "01 July 2014                                                                                                                                                         14\n",
       "February 2007                                                                                                                                                        14\n",
       "01 February 2015                                                                                                                                                     14\n",
       "January 2016                                                                                                                                                         13\n",
       "01 September 2010                                                                                                                                                    13\n",
       "01 March 2006                                                                                                                                                        13\n",
       "01 September 2008                                                                                                                                                    13\n",
       "September 2013                                                                                                                                                       12\n",
       "June 2008                                                                                                                                                            12\n",
       "01 October 2008                                                                                                                                                      12\n",
       "01 October 2012                                                                                                                                                      12\n",
       "01 April 2014                                                                                                                                                        12\n",
       "Fall 2010                                                                                                                                                            12\n",
       "01 March 2012                                                                                                                                                        12\n",
       "January 2011                                                                                                                                                         11\n",
       "01 September 2004                                                                                                                                                    11\n",
       "01 April 2009                                                                                                                                                        11\n",
       "01 November 2007                                                                                                                                                     11\n",
       "                                                                                                                                                                   ... \n",
       "05 March 2012                                                                                                                                                         1\n",
       "19 January 2015                                                                                                                                                       1\n",
       "12 June 2014                                                                                                                                                          1\n",
       "Midst June, 2004                                                                                                                                                      1\n",
       "16 May 2011                                                                                                                                                           1\n",
       "June 2005 or as agreed                                                                                                                                                1\n",
       "25 June 2007                                                                                                                                                          1\n",
       "Undetermined                                                                                                                                                          1\n",
       "17 April 2007                                                                                                                                                         1\n",
       "The end of January 2005                                                                                                                                               1\n",
       "17 September 2005                                                                                                                                                     1\n",
       "10 September 2008                                                                                                                                                     1\n",
       "28 August 2006                                                                                                                                                        1\n",
       "08 July 2008, 18:00                                                                                                                                                   1\n",
       "End of May 2006                                                                                                                                                       1\n",
       "September  2005                                                                                                                                                       1\n",
       "15 September 2006                                                                                                                                                     1\n",
       "01 November 2012, 4 p.m.                                                                                                                                              1\n",
       "01 March 2014 (preferably)                                                                                                                                            1\n",
       "08 July 2013                                                                                                                                                          1\n",
       "Wednesday, 6 April 2011 at 10:00 a.m. (Registration\\r\\nstarts at 09:30 a.m.)                                                                                          1\n",
       "05 May 2014                                                                                                                                                           1\n",
       "1 May 2005                                                                                                                                                            1\n",
       "19 February  2007                                                                                                                                                     1\n",
       "The starting date depends on the date when the project\\r\\nis notified by the EU-delegation in Armenia. It is expected to be no\\r\\nlater than 1st February 2012.       1\n",
       "February 28, 2011 or later                                                                                                                                            1\n",
       "03 October 2006, from 16:30 till 18:00.                                                                                                                               1\n",
       "09 July 2005                                                                                                                                                          1\n",
       "August 10, 2004                                                                                                                                                       1\n",
       "28 November 2007                                                                                                                                                      1\n",
       "Name: StartDate, Length: 1140, dtype: int64"
      ]
     },
     "execution_count": 34,
     "metadata": {},
     "output_type": "execute_result"
    }
   ],
   "source": [
    "df_clean['StartDate'].value_counts()"
   ]
  },
  {
   "cell_type": "code",
   "execution_count": 46,
   "metadata": {},
   "outputs": [],
   "source": [
    "# assert断言是声明其布尔值必须为真的判定，如果发生异常(AssertionError)就说明表达式为假。以下代码检测StartDate列的ASAP值是否填充完整\n",
    "for phrase in asap_list:\n",
    "    assert phrase not in df_clean.StartDate.values\n"
   ]
  },
  {
   "cell_type": "code",
   "execution_count": null,
   "metadata": {},
   "outputs": [],
   "source": []
  }
 ],
 "metadata": {
  "kernelspec": {
   "display_name": "Python 3",
   "language": "python",
   "name": "python3"
  },
  "language_info": {
   "codemirror_mode": {
    "name": "ipython",
    "version": 3
   },
   "file_extension": ".py",
   "mimetype": "text/x-python",
   "name": "python",
   "nbconvert_exporter": "python",
   "pygments_lexer": "ipython3",
   "version": "3.6.4"
  }
 },
 "nbformat": 4,
 "nbformat_minor": 2
}
